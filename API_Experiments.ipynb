{
 "cells": [
  {
   "cell_type": "markdown",
   "metadata": {},
   "source": [
    "## PandaSDMX package - very helpful in our case"
   ]
  },
  {
   "cell_type": "code",
   "execution_count": 1,
   "metadata": {},
   "outputs": [],
   "source": [
    "import pandasdmx as sdmx\n",
    "\n",
    "unsd = sdmx.Request('UNSD') #Get the UNSD Dataset client"
   ]
  },
  {
   "cell_type": "code",
   "execution_count": 2,
   "metadata": {},
   "outputs": [],
   "source": [
    "flow_msg = unsd.dataflow() #Get the dataflow (I found later that we can only work with datastructures)\n",
    "str_msg = unsd.datastructure() #Get the datastructure"
   ]
  },
  {
   "cell_type": "code",
   "execution_count": 49,
   "metadata": {
    "ExecuteTime": {
     "end_time": "2020-11-22T03:38:47.919368Z",
     "start_time": "2020-11-22T03:38:47.910664Z"
    },
    "collapsed": true
   },
   "outputs": [
    {
     "data": {
      "text/plain": [
       "('https://data.un.org/WS/rest/dataflow/UNSD/latest',\n",
       " {'Content-Type': 'application/vnd.sdmx.structure+xml; version=2.1; charset=utf-8', 'Server': 'Microsoft-IIS/8.5', 'X-Powered-By': 'ASP.NET', 'X-Xss-Protection': '1; mode=block', 'Referrer-Policy': 'no-referrer-when-downgrade', 'X-Content-Type-Options': 'nosniff', 'X-Frame-Options': 'SAMEORIGIN', 'Feature-Policy': \"vibrate 'none'; geolocation 'none'; midi 'none'; notifications 'none'; push 'none'; sync-xhr 'none'; microphone 'none'; camera 'none'; magnetometer 'none'; gyroscope 'none'; speaker 'none'; vibrate 'none'; fullscreen 'none'; payment 'none'\", 'Access-Control-Allow-Origin': '*', 'Date': 'Sun, 22 Nov 2020 03:04:48 GMT', 'Content-Length': '3015'},\n",
       " 'https://data.un.org/WS/rest/datastructure/UNSD/latest',\n",
       " {'Transfer-Encoding': 'chunked', 'Content-Type': 'application/vnd.sdmx.structure+xml; version=2.1; charset=utf-8', 'Server': 'Microsoft-IIS/8.5', 'X-Powered-By': 'ASP.NET', 'X-Xss-Protection': '1; mode=block', 'Referrer-Policy': 'no-referrer-when-downgrade', 'X-Content-Type-Options': 'nosniff', 'X-Frame-Options': 'SAMEORIGIN', 'Feature-Policy': \"vibrate 'none'; geolocation 'none'; midi 'none'; notifications 'none'; push 'none'; sync-xhr 'none'; microphone 'none'; camera 'none'; magnetometer 'none'; gyroscope 'none'; speaker 'none'; vibrate 'none'; fullscreen 'none'; payment 'none'\", 'Access-Control-Allow-Origin': '*', 'Date': 'Sun, 22 Nov 2020 03:04:50 GMT'})"
      ]
     },
     "execution_count": 49,
     "metadata": {},
     "output_type": "execute_result"
    }
   ],
   "source": [
    "flow_msg.response.url, flow_msg.response.headers, str_msg.response.url, str_msg.response.headers"
   ]
  },
  {
   "cell_type": "code",
   "execution_count": 5,
   "metadata": {
    "collapsed": true
   },
   "outputs": [
    {
     "data": {
      "text/plain": [
       "(<pandasdmx.StructureMessage>\n",
       "   <Header>\n",
       "     id: 'IDREF129'\n",
       "     prepared: '2020-11-22T04:04:49.143327+01:00'\n",
       "     receiver: <Agency Unknown>\n",
       "     sender: <Agency Unknown>\n",
       "     source: \n",
       "     test: False\n",
       "   response: <Response [200]>\n",
       "   DataflowDefinition (5): DF_UNDATA_COUNTRYDATA DF_UNDATA_SEEA_SUPPLY D...\n",
       "   DataStructureDefinition (4): CountryData SEEANRG DSD_ENERGY_BALANCE_U...,\n",
       " <pandasdmx.StructureMessage>\n",
       "   <Header>\n",
       "     id: 'IDREF130'\n",
       "     prepared: '2020-11-22T04:04:50.792861+01:00'\n",
       "     receiver: <Agency Unknown>\n",
       "     sender: <Agency Unknown>\n",
       "     source: \n",
       "     test: False\n",
       "   response: <Response [200]>\n",
       "   Codelist (27): CL_FREQ_MDG CL_SERIES_COUNTRY_DATA CL_UNIT_COUNTRY_DAT...\n",
       "   ConceptScheme (4): MDG_DATA_CONCEPTS CS_ENERGY_BALANCE_UNDATA CS_UNDA...\n",
       "   DataStructureDefinition (4): CountryData DSD_ENERGY_BALANCE_UNDATA DS...)"
      ]
     },
     "execution_count": 5,
     "metadata": {},
     "output_type": "execute_result"
    }
   ],
   "source": [
    "flow_msg, str_msg # This shows the names of the dataflows and datastructures, also constraints"
   ]
  },
  {
   "cell_type": "markdown",
   "metadata": {
    "heading_collapsed": true
   },
   "source": [
    "## Working with dataflows"
   ]
  },
  {
   "cell_type": "code",
   "execution_count": 6,
   "metadata": {
    "hidden": true
   },
   "outputs": [
    {
     "data": {
      "text/plain": [
       "DF_UNDATA_COUNTRYDATA             SDMX-CountryData\n",
       "DF_UNDATA_SEEA_SUPPLY             SEEA SUPPLY DATA\n",
       "DF_UNDATA_SEEA_USE                   SEEA USE DATA\n",
       "DF_UNData_EnergyBalance    Energy Balance DataFlow\n",
       "DF_UNData_UNFCC                    SDMX_GHG_UNDATA\n",
       "dtype: object"
      ]
     },
     "execution_count": 6,
     "metadata": {},
     "output_type": "execute_result"
    }
   ],
   "source": [
    "dataflows = sdmx.to_pandas(flow_msg.dataflow) #All dataflows\n",
    "dataflows"
   ]
  },
  {
   "cell_type": "code",
   "execution_count": 7,
   "metadata": {
    "hidden": true
   },
   "outputs": [
    {
     "data": {
      "text/plain": [
       "DF_UNData_EnergyBalance    Energy Balance DataFlow\n",
       "dtype: object"
      ]
     },
     "execution_count": 7,
     "metadata": {},
     "output_type": "execute_result"
    }
   ],
   "source": [
    "dataflows[dataflows.str.contains('Energy', case=False)] #Seacrch similar dataflows"
   ]
  },
  {
   "cell_type": "code",
   "execution_count": 8,
   "metadata": {
    "hidden": true
   },
   "outputs": [
    {
     "data": {
      "text/plain": [
       "<pandasdmx.StructureMessage>\n",
       "  <Header>\n",
       "    id: 'IDREF131'\n",
       "    prepared: '2020-11-22T04:07:14.497460+01:00'\n",
       "    receiver: <Agency Unknown>\n",
       "    sender: <Agency Unknown>\n",
       "    source: \n",
       "    test: False\n",
       "  response: <Response [200]>\n",
       "  Categorisation (1): DF_UNData_UNFCC@ESTAT@10@UNdata_Categories@10@ENVI\n",
       "  CategoryScheme (1): UNdata_Categories\n",
       "  Codelist (4): CL_FREQ CL_INDICATOR CL_REF_AREA CL_UNIT\n",
       "  ConceptScheme (1): CS_UNDATA\n",
       "  DataflowDefinition (1): DF_UNData_UNFCC\n",
       "  DataStructureDefinition (1): DSD_GHG_UNDATA"
      ]
     },
     "execution_count": 8,
     "metadata": {},
     "output_type": "execute_result"
    }
   ],
   "source": [
    "unfcc_msg = unsd.dataflow('DF_UNData_UNFCC') #Select one dataflow, we chose the Greenhouse gas one\n",
    "unfcc_msg"
   ]
  },
  {
   "cell_type": "code",
   "execution_count": 9,
   "metadata": {
    "hidden": true
   },
   "outputs": [],
   "source": [
    "unfcc_flow = unfcc_msg.dataflow.DF_UNData_UNFCC #Get the dataflow"
   ]
  },
  {
   "cell_type": "code",
   "execution_count": 10,
   "metadata": {
    "hidden": true
   },
   "outputs": [
    {
     "data": {
      "text/plain": [
       "<DataStructureDefinition UNSD:DSD_GHG_UNDATA(1.0): Green House Gas DSD>"
      ]
     },
     "execution_count": 10,
     "metadata": {},
     "output_type": "execute_result"
    }
   ],
   "source": [
    "dsd = unfcc_flow.structure # We can reach the structure through dataflowflow\n",
    "dsd"
   ]
  },
  {
   "cell_type": "code",
   "execution_count": 11,
   "metadata": {
    "hidden": true
   },
   "outputs": [
    {
     "data": {
      "text/plain": [
       "True"
      ]
     },
     "execution_count": 11,
     "metadata": {},
     "output_type": "execute_result"
    }
   ],
   "source": [
    "dsd is unfcc_msg.structure.DSD_GHG_UNDATA #Another way to access the structure"
   ]
  },
  {
   "cell_type": "code",
   "execution_count": 12,
   "metadata": {
    "hidden": true
   },
   "outputs": [
    {
     "data": {
      "text/plain": [
       "[<Dimension FREQ>,\n",
       " <Dimension INDICATOR>,\n",
       " <Dimension REF_AREA>,\n",
       " <Dimension UNIT>,\n",
       " <TimeDimension TIME_PERIOD>]"
      ]
     },
     "execution_count": 12,
     "metadata": {},
     "output_type": "execute_result"
    }
   ],
   "source": [
    "dsd.dimensions.components"
   ]
  },
  {
   "cell_type": "markdown",
   "metadata": {},
   "source": [
    "## Working with datastructures"
   ]
  },
  {
   "cell_type": "code",
   "execution_count": 52,
   "metadata": {
    "ExecuteTime": {
     "end_time": "2020-11-22T03:41:44.274632Z",
     "start_time": "2020-11-22T03:41:44.260444Z"
    }
   },
   "outputs": [
    {
     "data": {
      "text/plain": [
       "CountryData                                          SDMX-CountryData\n",
       "DSD_ENERGY_BALANCE_UNDATA    Energy Balance Data Structure Definition\n",
       "DSD_GHG_UNDATA                                    Green House Gas DSD\n",
       "DSD_WPP_UNDATA                         World Population Prospects DSD\n",
       "dtype: object"
      ]
     },
     "execution_count": 52,
     "metadata": {},
     "output_type": "execute_result"
    }
   ],
   "source": [
    "datastructure = sdmx.to_pandas(str_msg.structure)\n",
    "datastructure"
   ]
  },
  {
   "cell_type": "code",
   "execution_count": 53,
   "metadata": {
    "ExecuteTime": {
     "end_time": "2020-11-22T03:42:00.467667Z",
     "start_time": "2020-11-22T03:41:58.147942Z"
    }
   },
   "outputs": [
    {
     "data": {
      "text/plain": [
       "<pandasdmx.StructureMessage>\n",
       "  <Header>\n",
       "    id: 'IDREF145'\n",
       "    prepared: '2020-11-22T04:42:00.351782+01:00'\n",
       "    receiver: <Agency Unknown>\n",
       "    sender: <Agency Unknown>\n",
       "    source: \n",
       "    test: False\n",
       "  response: <Response [200]>\n",
       "  Codelist (4): CL_FREQ CL_INDICATOR CL_REF_AREA CL_UNIT\n",
       "  ConceptScheme (1): CS_UNDATA\n",
       "  DataflowDefinition (1): DF_UNData_UNFCC\n",
       "  DataStructureDefinition (1): DSD_GHG_UNDATA"
      ]
     },
     "execution_count": 53,
     "metadata": {},
     "output_type": "execute_result"
    }
   ],
   "source": [
    "ghg_msg = unsd.datastructure('DSD_GHG_UNDATA')\n",
    "ghg_msg"
   ]
  },
  {
   "cell_type": "code",
   "execution_count": 55,
   "metadata": {
    "ExecuteTime": {
     "end_time": "2020-11-22T03:43:01.102346Z",
     "start_time": "2020-11-22T03:43:01.068242Z"
    }
   },
   "outputs": [
    {
     "name": "stdout",
     "output_type": "stream",
     "text": [
      "CL_FREQ\n",
      "A                   Annual\n",
      "S    Half-yearly, semester\n",
      "Q                Quarterly\n",
      "M                  Monthly\n",
      "W                   Weekly\n",
      "D                    Daily\n",
      "B    Daily - business week\n",
      "N                 Minutely\n",
      "Name: Frequency Cross-Domain Codelist, dtype: object\n",
      "CL_INDICATOR\n",
      "EN_ATM_METH_XLULUCF    Methane (CH4) Emissions without Land Use, Land...\n",
      "EN_ATM_CO2E_XLULUCF    Carbon dioxide (CO2) Emissions without Land Us...\n",
      "EN_CLC_GHGE_XLULUCF    Greenhouse Gas (GHGs) Emissions without Land U...\n",
      "EN_ATM_HFCE                          Hydrofluorocarbons (HFCs) Emissions\n",
      "EN_ATM_NO2E_XLULUCF    Nitrous oxide (N2O) Emissions without Land Use...\n",
      "EN_ATM_PFCE                            Perfluorocarbons (PFCs) Emissions\n",
      "EN_ATM_SF6E                         Sulphur hexafluoride (SF6) Emissions\n",
      "Name: Indicator GHG CodeList, dtype: object\n",
      "CL_REF_AREA\n",
      "AUS                                            Australia\n",
      "AUT                                              Austria\n",
      "BLR                                              Belarus\n",
      "BEL                                              Belgium\n",
      "BGR                                             Bulgaria\n",
      "CAN                                               Canada\n",
      "HRV                                              Croatia\n",
      "CYP                                               Cyprus\n",
      "CZE                                       Czech Republic\n",
      "DNK                                              Denmark\n",
      "EST                                              Estonia\n",
      "FIN                                              Finland\n",
      "FRA                                               France\n",
      "DEU                                              Germany\n",
      "GRC                                               Greece\n",
      "HUN                                              Hungary\n",
      "ISL                                              Iceland\n",
      "IRL                                              Ireland\n",
      "ITA                                                Italy\n",
      "JPN                                                Japan\n",
      "LVA                                               Latvia\n",
      "LIE                                        Liechtenstein\n",
      "LTU                                            Lithuania\n",
      "LUX                                           Luxembourg\n",
      "MLT                                                Malta\n",
      "MCO                                               Monaco\n",
      "NLD                                          Netherlands\n",
      "NZL                                          New Zealand\n",
      "NOR                                               Norway\n",
      "POL                                               Poland\n",
      "PRT                                             Portugal\n",
      "ROU                                              Romania\n",
      "RUS                                   Russian Federation\n",
      "SVK                                             Slovakia\n",
      "SVN                                             Slovenia\n",
      "ESP                                                Spain\n",
      "SWE                                               Sweden\n",
      "CHE                                          Switzerland\n",
      "TUR                                               Turkey\n",
      "UKR                                              Ukraine\n",
      "GBR    United Kingdom of Great Britain and Northern I...\n",
      "USA                             United States of America\n",
      "EU1                                       European Union\n",
      "Name: Reference Area GHG CodeList, dtype: object\n",
      "CL_UNIT\n",
      "Gg_CO2    Gigagrams (Gg) CO2 equivalent\n",
      "Name: Unit GHG CodeList, dtype: object\n"
     ]
    }
   ],
   "source": [
    "for cl in 'CL_FREQ','CL_INDICATOR','CL_REF_AREA','CL_UNIT':\n",
    "    print(sdmx.to_pandas(ghg_msg.codelist[cl])) # COde list is basically all the elements the data is grouped by"
   ]
  },
  {
   "cell_type": "code",
   "execution_count": 46,
   "metadata": {},
   "outputs": [],
   "source": [
    "resp = unsd.data('DF_UNData_UNFCC')"
   ]
  },
  {
   "cell_type": "code",
   "execution_count": 57,
   "metadata": {
    "ExecuteTime": {
     "end_time": "2020-11-22T03:44:28.405846Z",
     "start_time": "2020-11-22T03:44:27.625427Z"
    }
   },
   "outputs": [
    {
     "data": {
      "text/plain": [
       "FREQ  INDICATOR            REF_AREA  UNIT    TIME_PERIOD\n",
       "A     EN_ATM_CO2E_XLULUCF  AUS       Gg_CO2  1990           278424.375726\n",
       "                                             1991           279872.363891\n",
       "                                             1992           284912.124330\n",
       "                                             1993           289234.856483\n",
       "                                             1994           294014.610394\n",
       "Name: value, dtype: float64"
      ]
     },
     "execution_count": 57,
     "metadata": {},
     "output_type": "execute_result"
    }
   ],
   "source": [
    "data = resp.to_pandas()\n",
    "data.head()"
   ]
  },
  {
   "cell_type": "code",
   "execution_count": 78,
   "metadata": {
    "ExecuteTime": {
     "end_time": "2020-11-22T03:48:28.011149Z",
     "start_time": "2020-11-22T03:48:27.998448Z"
    }
   },
   "outputs": [],
   "source": [
    "b = data['A']['EN_ATM_CO2E_XLULUCF']['USA']['Gg_CO2']"
   ]
  },
  {
   "cell_type": "code",
   "execution_count": 85,
   "metadata": {
    "ExecuteTime": {
     "end_time": "2020-11-22T03:49:57.674978Z",
     "start_time": "2020-11-22T03:49:57.666107Z"
    }
   },
   "outputs": [
    {
     "data": {
      "text/plain": [
       "array([5121179.43963622, 5071563.91412935, 5174670.60072745,\n",
       "       5281386.60838635, 5375033.8031307 , 5436697.98564571,\n",
       "       5625041.88495804, 5701920.91944147, 5749893.05632887,\n",
       "       5829519.95115461, 5997298.91224708, 5899855.4845548 ,\n",
       "       5942421.40960999, 5991190.93456165, 6105444.10977108,\n",
       "       6130552.41652904, 6050384.60371289, 6127888.22111662,\n",
       "       5928256.32899496, 5493547.90815184, 5700108.33654193,\n",
       "       5572584.77548628, 5371777.17015237, 5522908.36543317,\n",
       "       5572106.31215707, 5422965.67734736, 5306662.45700516,\n",
       "       5270748.52543583])"
      ]
     },
     "execution_count": 85,
     "metadata": {},
     "output_type": "execute_result"
    }
   ],
   "source": [
    "b.values"
   ]
  },
  {
   "cell_type": "code",
   "execution_count": 86,
   "metadata": {
    "ExecuteTime": {
     "end_time": "2020-11-22T03:50:04.659768Z",
     "start_time": "2020-11-22T03:50:03.881589Z"
    }
   },
   "outputs": [
    {
     "data": {
      "text/plain": [
       "[<matplotlib.lines.Line2D at 0x7f7d50b61970>]"
      ]
     },
     "execution_count": 86,
     "metadata": {},
     "output_type": "execute_result"
    },
    {
     "data": {
      "image/png": "[encoded data removed]",
      "text/plain": [
       "<Figure size 432x288 with 1 Axes>"
      ]
     },
     "metadata": {
      "needs_background": "light"
     },
     "output_type": "display_data"
    }
   ],
   "source": [
    "import matplotlib.pyplot as plt\n",
    "\n",
    "plt.plot(b.index.values,b.values)"
   ]
  },
  {
   "cell_type": "markdown",
   "metadata": {
    "heading_collapsed": true
   },
   "source": [
    "## Check Codelists"
   ]
  },
  {
   "cell_type": "code",
   "execution_count": 24,
   "metadata": {
    "hidden": true
   },
   "outputs": [],
   "source": [
    "cl = dsd.dimensions.get('FREQ').local_representation.enumerated #We work with the FREQ dimension"
   ]
  },
  {
   "cell_type": "code",
   "execution_count": 25,
   "metadata": {
    "hidden": true
   },
   "outputs": [
    {
     "data": {
      "text/plain": [
       "<Codelist UNSD:CL_FREQ(1.0) (8 items): Frequency Cross-Domain Codelist>"
      ]
     },
     "execution_count": 25,
     "metadata": {},
     "output_type": "execute_result"
    }
   ],
   "source": [
    "cl"
   ]
  },
  {
   "cell_type": "code",
   "execution_count": 26,
   "metadata": {
    "hidden": true
   },
   "outputs": [
    {
     "data": {
      "text/plain": [
       "True"
      ]
     },
     "execution_count": 26,
     "metadata": {},
     "output_type": "execute_result"
    }
   ],
   "source": [
    "cl is unfcc_msg.codelist.CL_FREQ #Another Way to obtain Codelist for a dimension"
   ]
  },
  {
   "cell_type": "code",
   "execution_count": 27,
   "metadata": {
    "hidden": true
   },
   "outputs": [
    {
     "data": {
      "text/plain": [
       "CL_FREQ\n",
       "A                   Annual\n",
       "S    Half-yearly, semester\n",
       "Q                Quarterly\n",
       "M                  Monthly\n",
       "W                   Weekly\n",
       "D                    Daily\n",
       "B    Daily - business week\n",
       "N                 Minutely\n",
       "Name: Frequency Cross-Domain Codelist, dtype: object"
      ]
     },
     "execution_count": 27,
     "metadata": {},
     "output_type": "execute_result"
    }
   ],
   "source": [
    "sdmx.to_pandas(cl)"
   ]
  },
  {
   "cell_type": "code",
   "execution_count": 30,
   "metadata": {
    "hidden": true
   },
   "outputs": [
    {
     "ename": "KeyError",
     "evalue": "'A'",
     "output_type": "error",
     "traceback": [
      "\u001b[0;31m-------------------------------------------------------------------------\u001b[0m",
      "\u001b[0;31mKeyError\u001b[0m                                Traceback (most recent call last)",
      "\u001b[0;32m<ipython-input-30-dd381f05c2d8>\u001b[0m in \u001b[0;36m<module>\u001b[0;34m\u001b[0m\n\u001b[1;32m      1\u001b[0m \u001b[0;32mfor\u001b[0m \u001b[0mcl\u001b[0m \u001b[0;32min\u001b[0m \u001b[0;34m'A'\u001b[0m\u001b[0;34m,\u001b[0m \u001b[0;34m'B'\u001b[0m\u001b[0;34m:\u001b[0m\u001b[0;34m\u001b[0m\u001b[0;34m\u001b[0m\u001b[0m\n\u001b[0;32m----> 2\u001b[0;31m     \u001b[0mprint\u001b[0m\u001b[0;34m(\u001b[0m\u001b[0msdmx\u001b[0m\u001b[0;34m.\u001b[0m\u001b[0mto_pandas\u001b[0m\u001b[0;34m(\u001b[0m\u001b[0mstr_msg\u001b[0m\u001b[0;34m.\u001b[0m\u001b[0mcodelist\u001b[0m\u001b[0;34m[\u001b[0m\u001b[0mcl\u001b[0m\u001b[0;34m]\u001b[0m\u001b[0;34m)\u001b[0m\u001b[0;34m)\u001b[0m\u001b[0;34m\u001b[0m\u001b[0;34m\u001b[0m\u001b[0m\n\u001b[0m",
      "\u001b[0;32m~/.local/lib/python3.8/site-packages/pandasdmx/util.py\u001b[0m in \u001b[0;36m__getitem__\u001b[0;34m(self, key)\u001b[0m\n\u001b[1;32m    163\u001b[0m     \u001b[0;32mdef\u001b[0m \u001b[0m__getitem__\u001b[0m\u001b[0;34m(\u001b[0m\u001b[0mself\u001b[0m\u001b[0;34m,\u001b[0m \u001b[0mkey\u001b[0m\u001b[0;34m:\u001b[0m \u001b[0mUnion\u001b[0m\u001b[0;34m[\u001b[0m\u001b[0mKT\u001b[0m\u001b[0;34m,\u001b[0m \u001b[0mint\u001b[0m\u001b[0;34m]\u001b[0m\u001b[0;34m)\u001b[0m \u001b[0;34m->\u001b[0m \u001b[0mVT\u001b[0m\u001b[0;34m:\u001b[0m\u001b[0;34m\u001b[0m\u001b[0;34m\u001b[0m\u001b[0m\n\u001b[1;32m    164\u001b[0m         \u001b[0;32mtry\u001b[0m\u001b[0;34m:\u001b[0m\u001b[0;34m\u001b[0m\u001b[0;34m\u001b[0m\u001b[0m\n\u001b[0;32m--> 165\u001b[0;31m             \u001b[0;32mreturn\u001b[0m \u001b[0msuper\u001b[0m\u001b[0;34m(\u001b[0m\u001b[0;34m)\u001b[0m\u001b[0;34m.\u001b[0m\u001b[0m__getitem__\u001b[0m\u001b[0;34m(\u001b[0m\u001b[0mkey\u001b[0m\u001b[0;34m)\u001b[0m\u001b[0;34m\u001b[0m\u001b[0;34m\u001b[0m\u001b[0m\n\u001b[0m\u001b[1;32m    166\u001b[0m         \u001b[0;32mexcept\u001b[0m \u001b[0mKeyError\u001b[0m\u001b[0;34m:\u001b[0m\u001b[0;34m\u001b[0m\u001b[0;34m\u001b[0m\u001b[0m\n\u001b[1;32m    167\u001b[0m             \u001b[0;32mif\u001b[0m \u001b[0misinstance\u001b[0m\u001b[0;34m(\u001b[0m\u001b[0mkey\u001b[0m\u001b[0;34m,\u001b[0m \u001b[0mint\u001b[0m\u001b[0;34m)\u001b[0m\u001b[0;34m:\u001b[0m\u001b[0;34m\u001b[0m\u001b[0;34m\u001b[0m\u001b[0m\n",
      "\u001b[0;31mKeyError\u001b[0m: 'A'"
     ]
    }
   ],
   "source": [
    "for cl in 'A', 'B':\n",
    "    print(sdmx.to_pandas(str_msg.codelist[cl]))"
   ]
  },
  {
   "cell_type": "code",
   "execution_count": null,
   "metadata": {
    "hidden": true
   },
   "outputs": [],
   "source": [
    "cl.parse_raw()"
   ]
  },
  {
   "cell_type": "code",
   "execution_count": null,
   "metadata": {
    "hidden": true
   },
   "outputs": [],
   "source": [
    "sdmx.to_pandas(cl.)"
   ]
  },
  {
   "cell_type": "code",
   "execution_count": null,
   "metadata": {
    "hidden": true
   },
   "outputs": [],
   "source": []
  }
 ],
 "metadata": {
  "kernelspec": {
   "display_name": "Python 3",
   "language": "python",
   "name": "python3"
  },
  "language_info": {
   "codemirror_mode": {
    "name": "ipython",
    "version": 3
   },
   "file_extension": ".py",
   "mimetype": "text/x-python",
   "name": "python",
   "nbconvert_exporter": "python",
   "pygments_lexer": "ipython3",
   "version": "3.8.5"
  },
  "toc": {
   "base_numbering": 1,
   "nav_menu": {},
   "number_sections": true,
   "sideBar": true,
   "skip_h1_title": false,
   "title_cell": "Table of Contents",
   "title_sidebar": "Contents",
   "toc_cell": false,
   "toc_position": {},
   "toc_section_display": true,
   "toc_window_display": false
  },
  "varInspector": {
   "cols": {
    "lenName": 16,
    "lenType": 16,
    "lenVar": 40
   },
   "kernels_config": {
    "python": {
     "delete_cmd_postfix": "",
     "delete_cmd_prefix": "del ",
     "library": "var_list.py",
     "varRefreshCmd": "print(var_dic_list())"
    },
    "r": {
     "delete_cmd_postfix": ") ",
     "delete_cmd_prefix": "rm(",
     "library": "var_list.r",
     "varRefreshCmd": "cat(var_dic_list()) "
    }
   },
   "types_to_exclude": [
    "module",
    "function",
    "builtin_function_or_method",
    "instance",
    "_Feature"
   ],
   "window_display": false
  }
 },
 "nbformat": 4,
 "nbformat_minor": 4
}
